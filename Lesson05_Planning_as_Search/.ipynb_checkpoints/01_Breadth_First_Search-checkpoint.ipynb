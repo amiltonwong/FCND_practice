{
 "cells": [
  {
   "cell_type": "code",
   "execution_count": 1,
   "metadata": {},
   "outputs": [],
   "source": [
    "import numpy as np\n",
    "grid = np.array([\n",
    "    [0, 1, 0, 0, 0, 0],\n",
    "    [0, 1, 0, 0, 0, 0],\n",
    "    [0, 1, 0, 1, 0, 0],\n",
    "    [0, 0, 0, 1, 1, 0],\n",
    "    [0, 0, 0, 1, 0, 0],\n",
    "]) # zeros represent the free space and ones represent obstacles"
   ]
  },
  {
   "cell_type": "markdown",
   "metadata": {},
   "source": [
    "![title](01.png)"
   ]
  },
  {
   "cell_type": "code",
   "execution_count": 2,
   "metadata": {},
   "outputs": [],
   "source": [
    "# keep track of which cells you can expand into, \n",
    "# your visited list and all your partial plans\n",
    "# by using a combination of a Python queue, a set and a dictionary\n",
    "\n",
    "# keep track of all the cells that are possible to expand into within the \"queue\".\n",
    "# the cells you've already visited in the \"set\".\n",
    "# how you moved through the grid (your partial plans) in the dictionary\n",
    "\n",
    "# initialize a Queue() object and add the start location to it\n",
    "# is used to cycle through the positions since it \n",
    "# has O(1) complexity enqueue and dequeue times.\n",
    "from queue import Queue\n",
    "start = (1, 0) # Location in (i, j) of the start location in the image above\n",
    "q = Queue()\n",
    "q.put(start) # add (1,0) position"
   ]
  },
  {
   "cell_type": "code",
   "execution_count": 3,
   "metadata": {},
   "outputs": [
    {
     "name": "stdout",
     "output_type": "stream",
     "text": [
      "{(1, 0)}\n"
     ]
    }
   ],
   "source": [
    "#  initialize a set() object for your visited list and add the start location to it.\n",
    "visited = set()\n",
    "visited.add(start)\n",
    "print(visited)"
   ]
  },
  {
   "cell_type": "code",
   "execution_count": 4,
   "metadata": {},
   "outputs": [],
   "source": [
    "# define an empty dictionary, where you'll record how you moved through the grid \n",
    "# and a goal location, which in this example is (1, 4)\n",
    "branch = {}\n",
    "goal = (1, 4)"
   ]
  },
  {
   "cell_type": "code",
   "execution_count": 5,
   "metadata": {},
   "outputs": [],
   "source": [
    "# explore which actions are valid given your current position in the grid,\n",
    "# use Enum class to keep track of the action set\n",
    "from enum import Enum # is used to represent possible actions on the grid\n",
    "\n",
    "class Action(Enum): \n",
    "    LEFT = (0, -1)\n",
    "    RIGHT = (0, 1)\n",
    "    UP = (-1, 0)\n",
    "    DOWN = (1, 0)\n",
    "\n",
    "    def __str__(self):  #  string representation\n",
    "        if self == self.LEFT:\n",
    "            return '<'\n",
    "        elif self == self.RIGHT:\n",
    "            return '>'\n",
    "        elif self == self.UP:\n",
    "            return '^'\n",
    "        elif self == self.DOWN:\n",
    "            return 'v'"
   ]
  },
  {
   "cell_type": "code",
   "execution_count": 1,
   "metadata": {},
   "outputs": [],
   "source": [
    "# Define a function that returns a list of valid actions \n",
    "# through the grid from the current node\n",
    "def valid_actions(grid, current_node):\n",
    "    \"\"\"\n",
    "    Returns a list of valid actions given a grid and current node.\n",
    "    \"\"\"\n",
    "    # First define a list of all possible actions\n",
    "    valid = [Action.UP, Action.LEFT, Action.RIGHT, Action.DOWN]\n",
    "    # Retrieve the grid shape and position (n,m) of the current node\n",
    "    n, m = grid.shape[0] - 1, grid.shape[1] - 1\n",
    "    x, y = current_node\n",
    "    \n",
    "    # check if the node is off the grid or it's an obstacle\n",
    "    # If it is either, remove the action that takes you there\n",
    "    \n",
    "    # x can't be \"0\" or up neighbor of current node is obstacle\n",
    "    if x - 1 < 0 or grid[x-1, y] == 1:\n",
    "        valid.remove(Action.UP)\n",
    "    # when down neighbor of current node is obstacle\n",
    "    if x + 1 > n or grid[x+1, y] == 1:\n",
    "        valid.remove(Action.DOWN)\n",
    "    # when left neighbor of current node is obstacle\n",
    "    if y - 1 < 0 or grid[x, y-1] == 1:\n",
    "        valid.remove(Action.LEFT)\n",
    "    # when right neighbor of current node is obstacle\n",
    "    if y + 1 > m or grid[x, y+1] == 1:\n",
    "        valid.remove(Action.RIGHT)\n",
    "        \n",
    "    return valid"
   ]
  },
  {
   "cell_type": "code",
   "execution_count": null,
   "metadata": {},
   "outputs": [],
   "source": [
    "# Define a function to visualize the path\n",
    "def visualize_path(grid, path, start):\n",
    "    \"\"\"\n",
    "    Given a grid, path and start position\n",
    "    return visual of the path to the goal.\n",
    "    \n",
    "    'S' -> start \n",
    "    'G' -> goal\n",
    "    'O' -> obstacle\n",
    "    ' ' -> empty\n",
    "    \"\"\"\n",
    "    # Define a grid of string characters for visualization\n",
    "    sgrid = np.zeros(np.shape(grid), dtype=np.str)\n",
    "    sgrid[:] = ' '\n",
    "    sgrid[grid[:] == 1] = 'O'\n",
    "    \n",
    "    pos = start\n",
    "    # Fill in the string grid\n",
    "    for a in path:\n",
    "        da = a.value\n",
    "        sgrid[pos[0], pos[1]] = str(a)\n",
    "        # update new position\n",
    "        pos = (pos[0] + da[0], pos[1] + da[1])\n",
    "    sgrid[pos[0], pos[1]] = 'G'\n",
    "    sgrid[start[0], start[1]] = 'S'  \n",
    "    return sgrid"
   ]
  },
  {
   "cell_type": "code",
   "execution_count": 6,
   "metadata": {},
   "outputs": [],
   "source": [
    "# valid actions\n",
    "valid = [Action.UP, Action.RIGHT, Action.DOWN]"
   ]
  },
  {
   "cell_type": "markdown",
   "metadata": {},
   "source": [
    "The next thing to do is expand using each of these actions:\n",
    "\n",
    "\n",
    "![title](02.png)"
   ]
  },
  {
   "cell_type": "code",
   "execution_count": 8,
   "metadata": {},
   "outputs": [
    {
     "data": {
      "text/plain": [
       "1"
      ]
     },
     "execution_count": 8,
     "metadata": {},
     "output_type": "execute_result"
    }
   ],
   "source": [
    "start[0]"
   ]
  },
  {
   "cell_type": "code",
   "execution_count": 13,
   "metadata": {},
   "outputs": [
    {
     "data": {
      "text/plain": [
       "(-1, 0)"
      ]
     },
     "execution_count": 13,
     "metadata": {},
     "output_type": "execute_result"
    }
   ],
   "source": [
    "valid[0].value"
   ]
  },
  {
   "cell_type": "code",
   "execution_count": 21,
   "metadata": {},
   "outputs": [
    {
     "data": {
      "text/plain": [
       "dict"
      ]
     },
     "execution_count": 21,
     "metadata": {},
     "output_type": "execute_result"
    }
   ],
   "source": [
    "type(branch)"
   ]
  },
  {
   "cell_type": "code",
   "execution_count": 22,
   "metadata": {},
   "outputs": [
    {
     "name": "stdout",
     "output_type": "stream",
     "text": [
      "queue:  deque([(1, 0), (0, 0), (1, 1), (2, 0)])\n",
      "visited(set):  {(2, 0), (1, 0), (0, 0), (1, 1)}\n",
      "branch(dict):  {(0, 0): ((1, 0), <Action.UP: (-1, 0)>), (1, 1): ((1, 0), <Action.RIGHT: (0, 1)>), (2, 0): ((1, 0), <Action.DOWN: (1, 0)>)}\n"
     ]
    }
   ],
   "source": [
    "current_node = start # (1,0)\n",
    "for action in valid:\n",
    "    # delta of performing the action\n",
    "    da = action.value\n",
    "    # update to next node by executing action\n",
    "    next_node = (current_node[0] + da[0], current_node[1] + da[1])\n",
    "\n",
    "    # Check if the new node has been visibranchted before.\n",
    "    # If the node has not been visited you will need to\n",
    "    # 1. Mark it as visited\n",
    "    # 2. Add it to the queue\n",
    "    # 3. Add how you got there to branch\n",
    "    if next_node not in visited:                \n",
    "        visited.add(next_node)               \n",
    "        q.put(next_node)    \n",
    "        # record in your branch dictionary the cell you came from and action \n",
    "        # that took you there\n",
    "        branch[next_node] = (current_node, action) \n",
    "\n",
    "print(\"queue: \", q.queue)\n",
    "print(\"visited(set): \", visited)\n",
    "print(\"branch(dict): \", branch)"
   ]
  },
  {
   "cell_type": "code",
   "execution_count": null,
   "metadata": {},
   "outputs": [],
   "source": [
    "# employ the mothods above to implements breath-first search to\n",
    "# finally arrive at the goal (1,4)"
   ]
  },
  {
   "cell_type": "code",
   "execution_count": 24,
   "metadata": {},
   "outputs": [
    {
     "data": {
      "text/plain": [
       "(1, 4)"
      ]
     },
     "execution_count": 24,
     "metadata": {},
     "output_type": "execute_result"
    }
   ],
   "source": [
    "goal"
   ]
  },
  {
   "cell_type": "code",
   "execution_count": 25,
   "metadata": {},
   "outputs": [
    {
     "data": {
      "text/plain": [
       "{(0, 0): ((1, 0), <Action.UP: (-1, 0)>),\n",
       " (1, 1): ((1, 0), <Action.RIGHT: (0, 1)>),\n",
       " (2, 0): ((1, 0), <Action.DOWN: (1, 0)>)}"
      ]
     },
     "execution_count": 25,
     "metadata": {},
     "output_type": "execute_result"
    }
   ],
   "source": [
    "branch"
   ]
  },
  {
   "cell_type": "code",
   "execution_count": 26,
   "metadata": {},
   "outputs": [
    {
     "data": {
      "text/plain": [
       "(1, 4)"
      ]
     },
     "execution_count": 26,
     "metadata": {},
     "output_type": "execute_result"
    }
   ],
   "source": [
    "n "
   ]
  },
  {
   "cell_type": "code",
   "execution_count": 28,
   "metadata": {},
   "outputs": [
    {
     "data": {
      "text/plain": [
       "{(0, 0): ((1, 0), <Action.UP: (-1, 0)>),\n",
       " (1, 1): ((1, 0), <Action.RIGHT: (0, 1)>),\n",
       " (2, 0): ((1, 0), <Action.DOWN: (1, 0)>)}"
      ]
     },
     "execution_count": 28,
     "metadata": {},
     "output_type": "execute_result"
    }
   ],
   "source": [
    "branch"
   ]
  },
  {
   "cell_type": "code",
   "execution_count": 29,
   "metadata": {},
   "outputs": [
    {
     "data": {
      "text/plain": [
       "((1, 0), <Action.UP: (-1, 0)>)"
      ]
     },
     "execution_count": 29,
     "metadata": {},
     "output_type": "execute_result"
    }
   ],
   "source": [
    "branch[(0,0)]"
   ]
  },
  {
   "cell_type": "code",
   "execution_count": 23,
   "metadata": {},
   "outputs": [
    {
     "ename": "KeyError",
     "evalue": "(1, 4)",
     "output_type": "error",
     "traceback": [
      "\u001b[0;31m---------------------------------------------------------------------------\u001b[0m",
      "\u001b[0;31mKeyError\u001b[0m                                  Traceback (most recent call last)",
      "\u001b[0;32m<ipython-input-23-44565a6c5898>\u001b[0m in \u001b[0;36m<module>\u001b[0;34m()\u001b[0m\n\u001b[1;32m      2\u001b[0m \u001b[0mpath\u001b[0m \u001b[0;34m=\u001b[0m \u001b[0;34m[\u001b[0m\u001b[0;34m]\u001b[0m\u001b[0;34m\u001b[0m\u001b[0m\n\u001b[1;32m      3\u001b[0m \u001b[0mn\u001b[0m \u001b[0;34m=\u001b[0m \u001b[0mgoal\u001b[0m\u001b[0;34m\u001b[0m\u001b[0m\n\u001b[0;32m----> 4\u001b[0;31m \u001b[0;32mwhile\u001b[0m \u001b[0mbranch\u001b[0m\u001b[0;34m[\u001b[0m\u001b[0mn\u001b[0m\u001b[0;34m]\u001b[0m\u001b[0;34m[\u001b[0m\u001b[0;36m0\u001b[0m\u001b[0;34m]\u001b[0m \u001b[0;34m!=\u001b[0m \u001b[0mstart\u001b[0m\u001b[0;34m:\u001b[0m\u001b[0;34m\u001b[0m\u001b[0m\n\u001b[0m\u001b[1;32m      5\u001b[0m     \u001b[0;31m# Append each new node to the path as you work your way back\u001b[0m\u001b[0;34m\u001b[0m\u001b[0;34m\u001b[0m\u001b[0m\n\u001b[1;32m      6\u001b[0m     \u001b[0mpath\u001b[0m\u001b[0;34m.\u001b[0m\u001b[0mappend\u001b[0m\u001b[0;34m(\u001b[0m\u001b[0mbranch\u001b[0m\u001b[0;34m[\u001b[0m\u001b[0mn\u001b[0m\u001b[0;34m]\u001b[0m\u001b[0;34m[\u001b[0m\u001b[0;36m1\u001b[0m\u001b[0;34m]\u001b[0m\u001b[0;34m)\u001b[0m\u001b[0;34m\u001b[0m\u001b[0m\n",
      "\u001b[0;31mKeyError\u001b[0m: (1, 4)"
     ]
    }
   ],
   "source": [
    "# Retrace your steps\n",
    "path = []\n",
    "n = goal\n",
    "while branch[n][0] != start:\n",
    "    # Append each new node to the path as you work your way back\n",
    "    path.append(branch[n][1])\n",
    "    n = branch[n][0]\n",
    "# One last time to append the start location\n",
    "path.append(branch[n][1])\n",
    "\n",
    "# And reverse the order to make it a path from start to goal\n",
    "path = path[::-1]"
   ]
  },
  {
   "cell_type": "code",
   "execution_count": null,
   "metadata": {},
   "outputs": [],
   "source": []
  }
 ],
 "metadata": {
  "kernelspec": {
   "display_name": "Python 3",
   "language": "python",
   "name": "python3"
  },
  "language_info": {
   "codemirror_mode": {
    "name": "ipython",
    "version": 3
   },
   "file_extension": ".py",
   "mimetype": "text/x-python",
   "name": "python",
   "nbconvert_exporter": "python",
   "pygments_lexer": "ipython3",
   "version": "3.6.0"
  }
 },
 "nbformat": 4,
 "nbformat_minor": 2
}
